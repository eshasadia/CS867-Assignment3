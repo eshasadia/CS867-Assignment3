{
  "nbformat": 4,
  "nbformat_minor": 0,
  "metadata": {
    "colab": {
      "name": "CV_Assignment3.ipynb",
      "provenance": [],
      "collapsed_sections": []
    },
    "kernelspec": {
      "name": "python3",
      "display_name": "Python 3"
    },
    "accelerator": "GPU"
  },
  "cells": [
    {
      "cell_type": "code",
      "metadata": {
        "colab": {
          "base_uri": "https://localhost:8080/",
          "height": 35
        },
        "id": "u6uKco3rajaf",
        "outputId": "ec79c199-d38d-4b42-ade1-1d96c57e7a4f"
      },
      "source": [
        "import tensorflow as tf\r\n",
        "tf.test.gpu_device_name()"
      ],
      "execution_count": null,
      "outputs": [
        {
          "output_type": "execute_result",
          "data": {
            "application/vnd.google.colaboratory.intrinsic+json": {
              "type": "string"
            },
            "text/plain": [
              "'/device:GPU:0'"
            ]
          },
          "metadata": {
            "tags": []
          },
          "execution_count": 23
        }
      ]
    },
    {
      "cell_type": "code",
      "metadata": {
        "colab": {
          "base_uri": "https://localhost:8080/"
        },
        "id": "p4dHQB7BhP5o",
        "outputId": "17327410-7857-408e-bac2-eb0e397705cb"
      },
      "source": [
        "!pip install fastai"
      ],
      "execution_count": null,
      "outputs": [
        {
          "output_type": "stream",
          "text": [
            "Requirement already satisfied: fastai in /usr/local/lib/python3.6/dist-packages (1.0.61)\n",
            "Requirement already satisfied: pyyaml in /usr/local/lib/python3.6/dist-packages (from fastai) (3.13)\n",
            "Requirement already satisfied: beautifulsoup4 in /usr/local/lib/python3.6/dist-packages (from fastai) (4.6.3)\n",
            "Requirement already satisfied: spacy>=2.0.18; python_version < \"3.8\" in /usr/local/lib/python3.6/dist-packages (from fastai) (2.2.4)\n",
            "Requirement already satisfied: fastprogress>=0.2.1 in /usr/local/lib/python3.6/dist-packages (from fastai) (1.0.0)\n",
            "Requirement already satisfied: pandas in /usr/local/lib/python3.6/dist-packages (from fastai) (1.1.5)\n",
            "Requirement already satisfied: packaging in /usr/local/lib/python3.6/dist-packages (from fastai) (20.8)\n",
            "Requirement already satisfied: bottleneck in /usr/local/lib/python3.6/dist-packages (from fastai) (1.3.2)\n",
            "Requirement already satisfied: scipy in /usr/local/lib/python3.6/dist-packages (from fastai) (1.4.1)\n",
            "Requirement already satisfied: requests in /usr/local/lib/python3.6/dist-packages (from fastai) (2.23.0)\n",
            "Requirement already satisfied: torchvision in /usr/local/lib/python3.6/dist-packages (from fastai) (0.8.1+cu101)\n",
            "Requirement already satisfied: numexpr in /usr/local/lib/python3.6/dist-packages (from fastai) (2.7.1)\n",
            "Requirement already satisfied: dataclasses; python_version < \"3.7\" in /usr/local/lib/python3.6/dist-packages (from fastai) (0.8)\n",
            "Requirement already satisfied: matplotlib in /usr/local/lib/python3.6/dist-packages (from fastai) (3.2.2)\n",
            "Requirement already satisfied: Pillow in /usr/local/lib/python3.6/dist-packages (from fastai) (7.0.0)\n",
            "Requirement already satisfied: nvidia-ml-py3 in /usr/local/lib/python3.6/dist-packages (from fastai) (7.352.0)\n",
            "Requirement already satisfied: torch>=1.0.0 in /usr/local/lib/python3.6/dist-packages (from fastai) (1.7.0+cu101)\n",
            "Requirement already satisfied: numpy>=1.15 in /usr/local/lib/python3.6/dist-packages (from fastai) (1.19.4)\n",
            "Requirement already satisfied: tqdm<5.0.0,>=4.38.0 in /usr/local/lib/python3.6/dist-packages (from spacy>=2.0.18; python_version < \"3.8\"->fastai) (4.41.1)\n",
            "Requirement already satisfied: srsly<1.1.0,>=1.0.2 in /usr/local/lib/python3.6/dist-packages (from spacy>=2.0.18; python_version < \"3.8\"->fastai) (1.0.5)\n",
            "Requirement already satisfied: cymem<2.1.0,>=2.0.2 in /usr/local/lib/python3.6/dist-packages (from spacy>=2.0.18; python_version < \"3.8\"->fastai) (2.0.5)\n",
            "Requirement already satisfied: preshed<3.1.0,>=3.0.2 in /usr/local/lib/python3.6/dist-packages (from spacy>=2.0.18; python_version < \"3.8\"->fastai) (3.0.5)\n",
            "Requirement already satisfied: thinc==7.4.0 in /usr/local/lib/python3.6/dist-packages (from spacy>=2.0.18; python_version < \"3.8\"->fastai) (7.4.0)\n",
            "Requirement already satisfied: plac<1.2.0,>=0.9.6 in /usr/local/lib/python3.6/dist-packages (from spacy>=2.0.18; python_version < \"3.8\"->fastai) (1.1.3)\n",
            "Requirement already satisfied: blis<0.5.0,>=0.4.0 in /usr/local/lib/python3.6/dist-packages (from spacy>=2.0.18; python_version < \"3.8\"->fastai) (0.4.1)\n",
            "Requirement already satisfied: catalogue<1.1.0,>=0.0.7 in /usr/local/lib/python3.6/dist-packages (from spacy>=2.0.18; python_version < \"3.8\"->fastai) (1.0.0)\n",
            "Requirement already satisfied: murmurhash<1.1.0,>=0.28.0 in /usr/local/lib/python3.6/dist-packages (from spacy>=2.0.18; python_version < \"3.8\"->fastai) (1.0.5)\n",
            "Requirement already satisfied: setuptools in /usr/local/lib/python3.6/dist-packages (from spacy>=2.0.18; python_version < \"3.8\"->fastai) (51.0.0)\n",
            "Requirement already satisfied: wasabi<1.1.0,>=0.4.0 in /usr/local/lib/python3.6/dist-packages (from spacy>=2.0.18; python_version < \"3.8\"->fastai) (0.8.0)\n",
            "Requirement already satisfied: python-dateutil>=2.7.3 in /usr/local/lib/python3.6/dist-packages (from pandas->fastai) (2.8.1)\n",
            "Requirement already satisfied: pytz>=2017.2 in /usr/local/lib/python3.6/dist-packages (from pandas->fastai) (2018.9)\n",
            "Requirement already satisfied: pyparsing>=2.0.2 in /usr/local/lib/python3.6/dist-packages (from packaging->fastai) (2.4.7)\n",
            "Requirement already satisfied: idna<3,>=2.5 in /usr/local/lib/python3.6/dist-packages (from requests->fastai) (2.10)\n",
            "Requirement already satisfied: urllib3!=1.25.0,!=1.25.1,<1.26,>=1.21.1 in /usr/local/lib/python3.6/dist-packages (from requests->fastai) (1.24.3)\n",
            "Requirement already satisfied: certifi>=2017.4.17 in /usr/local/lib/python3.6/dist-packages (from requests->fastai) (2020.12.5)\n",
            "Requirement already satisfied: chardet<4,>=3.0.2 in /usr/local/lib/python3.6/dist-packages (from requests->fastai) (3.0.4)\n",
            "Requirement already satisfied: kiwisolver>=1.0.1 in /usr/local/lib/python3.6/dist-packages (from matplotlib->fastai) (1.3.1)\n",
            "Requirement already satisfied: cycler>=0.10 in /usr/local/lib/python3.6/dist-packages (from matplotlib->fastai) (0.10.0)\n",
            "Requirement already satisfied: typing-extensions in /usr/local/lib/python3.6/dist-packages (from torch>=1.0.0->fastai) (3.7.4.3)\n",
            "Requirement already satisfied: future in /usr/local/lib/python3.6/dist-packages (from torch>=1.0.0->fastai) (0.16.0)\n",
            "Requirement already satisfied: importlib-metadata>=0.20; python_version < \"3.8\" in /usr/local/lib/python3.6/dist-packages (from catalogue<1.1.0,>=0.0.7->spacy>=2.0.18; python_version < \"3.8\"->fastai) (3.3.0)\n",
            "Requirement already satisfied: six>=1.5 in /usr/local/lib/python3.6/dist-packages (from python-dateutil>=2.7.3->pandas->fastai) (1.15.0)\n",
            "Requirement already satisfied: zipp>=0.5 in /usr/local/lib/python3.6/dist-packages (from importlib-metadata>=0.20; python_version < \"3.8\"->catalogue<1.1.0,>=0.0.7->spacy>=2.0.18; python_version < \"3.8\"->fastai) (3.4.0)\n"
          ],
          "name": "stdout"
        }
      ]
    },
    {
      "cell_type": "code",
      "metadata": {
        "id": "zpQMBHJ7hU2B"
      },
      "source": [
        "\r\n",
        "import keras\r\n",
        "from keras.layers import Conv2D, Dense, MaxPooling2D, Flatten, Dropout\r\n",
        "from keras.models import Sequential"
      ],
      "execution_count": null,
      "outputs": []
    },
    {
      "cell_type": "code",
      "metadata": {
        "id": "hZFGtDysjiGL"
      },
      "source": [
        "\r\n",
        "vgg16 = Sequential()"
      ],
      "execution_count": null,
      "outputs": []
    },
    {
      "cell_type": "code",
      "metadata": {
        "id": "_EweAz5SjkSh"
      },
      "source": [
        "vgg16.add(Conv2D(64, kernel_size=3, padding='same', activation='relu',\r\n",
        "                 input_shape=(150, 150, 3)))\r\n",
        "vgg16.add(Conv2D(64, kernel_size=3, padding='same', activation='relu'))\r\n",
        "vgg16.add(MaxPooling2D(pool_size=2, strides=2))\r\n",
        "vgg16.add(Dropout(0.25))\r\n",
        "\r\n",
        "vgg16.add(Conv2D(128, kernel_size=3, padding='same', activation='relu'))\r\n",
        "vgg16.add(Conv2D(128, kernel_size=3, padding='same', activation='relu'))\r\n",
        "vgg16.add(MaxPooling2D(pool_size=2, strides=2))\r\n",
        "vgg16.add(Dropout(0.25))\r\n",
        "\r\n",
        "vgg16.add(Conv2D(256, kernel_size=3, padding='same', activation='relu'))\r\n",
        "vgg16.add(Conv2D(256, kernel_size=3, padding='same', activation='relu'))\r\n",
        "vgg16.add(Conv2D(256, kernel_size=3, padding='same', activation='relu'))\r\n",
        "vgg16.add(MaxPooling2D(pool_size=2, strides=2))\r\n",
        "vgg16.add(Dropout(0.25))\r\n",
        "\r\n",
        "vgg16.add(Conv2D(512, kernel_size=3, padding='same', activation='relu'))\r\n",
        "vgg16.add(Conv2D(512, kernel_size=3, padding='same', activation='relu'))\r\n",
        "vgg16.add(Conv2D(512, kernel_size=3, padding='same', activation='relu'))\r\n",
        "vgg16.add(MaxPooling2D(pool_size=2, strides=2))\r\n",
        "vgg16.add(Dropout(0.25))\r\n",
        "\r\n",
        "vgg16.add(Conv2D(512, kernel_size=3, activation='relu'))\r\n",
        "vgg16.add(Conv2D(512, kernel_size=3, activation='relu'))\r\n",
        "vgg16.add(Conv2D(512, kernel_size=3, activation='relu'))\r\n",
        "vgg16.add(MaxPooling2D(pool_size=2, strides=2))\r\n",
        "vgg16.add(Dropout(0.25))\r\n",
        "\r\n",
        "vgg16.add(Flatten())\r\n",
        "\r\n",
        "vgg16.add(Dense(4096, activation='relu'))\r\n",
        "vgg16.add(Dense(4096, activation='relu'))\r\n",
        "vgg16.add(Dense(4096, activation='relu'))\r\n",
        "# the data we are using has 3 classes\r\n",
        "vgg16.add(Dense(6, activation='softmax'))"
      ],
      "execution_count": null,
      "outputs": []
    },
    {
      "cell_type": "code",
      "metadata": {
        "colab": {
          "base_uri": "https://localhost:8080/"
        },
        "id": "geL9DZCPjrxq",
        "outputId": "a54ca382-b6dd-48b0-9a39-0775290d5277"
      },
      "source": [
        "vgg16.summary()"
      ],
      "execution_count": null,
      "outputs": [
        {
          "output_type": "stream",
          "text": [
            "Model: \"sequential\"\n",
            "_________________________________________________________________\n",
            "Layer (type)                 Output Shape              Param #   \n",
            "=================================================================\n",
            "conv2d (Conv2D)              (None, 150, 150, 64)      1792      \n",
            "_________________________________________________________________\n",
            "conv2d_1 (Conv2D)            (None, 150, 150, 64)      36928     \n",
            "_________________________________________________________________\n",
            "max_pooling2d (MaxPooling2D) (None, 75, 75, 64)        0         \n",
            "_________________________________________________________________\n",
            "dropout (Dropout)            (None, 75, 75, 64)        0         \n",
            "_________________________________________________________________\n",
            "conv2d_2 (Conv2D)            (None, 75, 75, 128)       73856     \n",
            "_________________________________________________________________\n",
            "conv2d_3 (Conv2D)            (None, 75, 75, 128)       147584    \n",
            "_________________________________________________________________\n",
            "max_pooling2d_1 (MaxPooling2 (None, 37, 37, 128)       0         \n",
            "_________________________________________________________________\n",
            "dropout_1 (Dropout)          (None, 37, 37, 128)       0         \n",
            "_________________________________________________________________\n",
            "conv2d_4 (Conv2D)            (None, 37, 37, 256)       295168    \n",
            "_________________________________________________________________\n",
            "conv2d_5 (Conv2D)            (None, 37, 37, 256)       590080    \n",
            "_________________________________________________________________\n",
            "conv2d_6 (Conv2D)            (None, 37, 37, 256)       590080    \n",
            "_________________________________________________________________\n",
            "max_pooling2d_2 (MaxPooling2 (None, 18, 18, 256)       0         \n",
            "_________________________________________________________________\n",
            "dropout_2 (Dropout)          (None, 18, 18, 256)       0         \n",
            "_________________________________________________________________\n",
            "conv2d_7 (Conv2D)            (None, 18, 18, 512)       1180160   \n",
            "_________________________________________________________________\n",
            "conv2d_8 (Conv2D)            (None, 18, 18, 512)       2359808   \n",
            "_________________________________________________________________\n",
            "conv2d_9 (Conv2D)            (None, 18, 18, 512)       2359808   \n",
            "_________________________________________________________________\n",
            "max_pooling2d_3 (MaxPooling2 (None, 9, 9, 512)         0         \n",
            "_________________________________________________________________\n",
            "dropout_3 (Dropout)          (None, 9, 9, 512)         0         \n",
            "_________________________________________________________________\n",
            "conv2d_10 (Conv2D)           (None, 7, 7, 512)         2359808   \n",
            "_________________________________________________________________\n",
            "conv2d_11 (Conv2D)           (None, 5, 5, 512)         2359808   \n",
            "_________________________________________________________________\n",
            "conv2d_12 (Conv2D)           (None, 3, 3, 512)         2359808   \n",
            "_________________________________________________________________\n",
            "max_pooling2d_4 (MaxPooling2 (None, 1, 1, 512)         0         \n",
            "_________________________________________________________________\n",
            "dropout_4 (Dropout)          (None, 1, 1, 512)         0         \n",
            "_________________________________________________________________\n",
            "flatten (Flatten)            (None, 512)               0         \n",
            "_________________________________________________________________\n",
            "dense (Dense)                (None, 4096)              2101248   \n",
            "_________________________________________________________________\n",
            "dense_1 (Dense)              (None, 4096)              16781312  \n",
            "_________________________________________________________________\n",
            "dense_2 (Dense)              (None, 4096)              16781312  \n",
            "_________________________________________________________________\n",
            "dense_3 (Dense)              (None, 6)                 24582     \n",
            "=================================================================\n",
            "Total params: 50,403,142\n",
            "Trainable params: 50,403,142\n",
            "Non-trainable params: 0\n",
            "_________________________________________________________________\n"
          ],
          "name": "stdout"
        }
      ]
    },
    {
      "cell_type": "code",
      "metadata": {
        "id": "9VmSa533jsdZ"
      },
      "source": [
        "# necessary imports\r\n",
        "import os\r\n",
        "import cv2\r\n",
        "import numpy as np\r\n",
        "from imutils import paths\r\n",
        "from sklearn.preprocessing import LabelBinarizer\r\n",
        "from tqdm import tqdm"
      ],
      "execution_count": null,
      "outputs": []
    },
    {
      "cell_type": "code",
      "metadata": {
        "id": "olS_pGtkjvmX"
      },
      "source": [
        "# A function to load data from a given directory\r\n",
        "def load_data(data_dir):\r\n",
        "  data = []\r\n",
        "  labels = []\r\n",
        "  class_dirs = os.listdir(data_dir)\r\n",
        "  \r\n",
        "  for direc in class_dirs:\r\n",
        "    class_dir = os.path.join(data_dir, direc)\r\n",
        "    for imagepath in tqdm(list(paths.list_images(class_dir))):\r\n",
        "      image = cv2.imread(imagepath)\r\n",
        "      image = cv2.resize(image, (150, 150))  # incase images not of same size\r\n",
        "      data.append(image)\r\n",
        "      labels.append(direc)\r\n",
        "  # normalizing and converting to numpy array format\r\n",
        "  data = np.array(data, dtype='float')/255.0\r\n",
        "  labels = np.array(labels)\r\n",
        "  return data, labels"
      ],
      "execution_count": null,
      "outputs": []
    },
    {
      "cell_type": "code",
      "metadata": {
        "colab": {
          "base_uri": "https://localhost:8080/"
        },
        "id": "8pBk86EJjzid",
        "outputId": "393c4e21-a419-46de-ec79-1594f6148b71"
      },
      "source": [
        "#unzip dataset in colab session\r\n",
        "# !pip install pyunpack\r\n",
        "# !pip install patool\r\n",
        "# from pyunpack import Archive\r\n",
        "# Archive(\"/content/intel-image-classification-mini-20210103T223223Z-001.zip\").extractall(\"/content/sample_data\")\r\n",
        "#!unzip -q  intel-image-classification-mini-20210103T223223Z-001.zip # -q for quiet\r\n",
        "\r\n",
        "train_dir = \"/content/intel-image-classification-mini/seg_train/\"\r\n",
        "test_dir = \"/content/intel-image-classification-mini/seg_test/\"\r\n",
        "pred_dir = \"/content/intel-image-classification-mini/seg_pred/\"\r\n",
        "\r\n",
        "# print('loading train images')\r\n",
        "# X_train, y_train = load_data(train_dir)\r\n",
        "print('loading test images')\r\n",
        "X_test, y_test = load_data(test_dir)"
      ],
      "execution_count": null,
      "outputs": [
        {
          "output_type": "stream",
          "text": [
            " 10%|█         | 51/510 [00:00<00:00, 509.00it/s]"
          ],
          "name": "stderr"
        },
        {
          "output_type": "stream",
          "text": [
            "loading test images\n"
          ],
          "name": "stdout"
        },
        {
          "output_type": "stream",
          "text": [
            "100%|██████████| 510/510 [00:00<00:00, 935.20it/s]\n",
            "100%|██████████| 474/474 [00:00<00:00, 907.83it/s]\n",
            "100%|██████████| 501/501 [00:00<00:00, 1174.78it/s]\n",
            "100%|██████████| 525/525 [00:00<00:00, 1377.52it/s]\n",
            "100%|██████████| 437/437 [00:00<00:00, 1414.94it/s]\n",
            "100%|██████████| 553/553 [00:00<00:00, 1204.02it/s]\n"
          ],
          "name": "stderr"
        }
      ]
    },
    {
      "cell_type": "code",
      "metadata": {
        "colab": {
          "base_uri": "https://localhost:8080/"
        },
        "id": "s2EmokMzj1aq",
        "outputId": "98aad77d-c8c5-4d61-c0f7-0d1595004475"
      },
      "source": [
        "X_train.shape"
      ],
      "execution_count": null,
      "outputs": [
        {
          "output_type": "execute_result",
          "data": {
            "text/plain": [
              "(7016, 150, 150, 3)"
            ]
          },
          "metadata": {
            "tags": []
          },
          "execution_count": 8
        }
      ]
    },
    {
      "cell_type": "code",
      "metadata": {
        "colab": {
          "base_uri": "https://localhost:8080/"
        },
        "id": "pAm48b2Mj35F",
        "outputId": "2d09eb38-1485-4d0d-fb0f-cd7c797227b9"
      },
      "source": [
        "X_test.shape"
      ],
      "execution_count": null,
      "outputs": [
        {
          "output_type": "execute_result",
          "data": {
            "text/plain": [
              "(3000, 150, 150, 3)"
            ]
          },
          "metadata": {
            "tags": []
          },
          "execution_count": 12
        }
      ]
    },
    {
      "cell_type": "code",
      "metadata": {
        "id": "-pU4pwRYj6F_"
      },
      "source": [
        "lb = LabelBinarizer()\r\n",
        "# y_train = lb.fit_transform(y_train)\r\n",
        "y_test = lb.fit_transform(y_test)"
      ],
      "execution_count": null,
      "outputs": []
    },
    {
      "cell_type": "code",
      "metadata": {
        "colab": {
          "base_uri": "https://localhost:8080/"
        },
        "id": "7yB5S55Pj83P",
        "outputId": "00ed34c3-dbcb-4735-bc62-edde221ada50"
      },
      "source": [
        "y_train[0]"
      ],
      "execution_count": null,
      "outputs": [
        {
          "output_type": "execute_result",
          "data": {
            "text/plain": [
              "array([0, 0, 0, 0, 1, 0], dtype=int64)"
            ]
          },
          "metadata": {
            "tags": []
          },
          "execution_count": 11
        }
      ]
    },
    {
      "cell_type": "code",
      "metadata": {
        "id": "CBbU6-ruj--4"
      },
      "source": [
        "from sklearn.model_selection import train_test_split"
      ],
      "execution_count": null,
      "outputs": []
    },
    {
      "cell_type": "code",
      "metadata": {
        "id": "Sl3mhA2jkFF6"
      },
      "source": [
        "(X_train, X_valid, y_train, y_valid) = train_test_split(X_train, y_train,\r\n",
        "                                                        test_size=0.2,\r\n",
        "                                                        random_state=42)"
      ],
      "execution_count": null,
      "outputs": []
    },
    {
      "cell_type": "code",
      "metadata": {
        "id": "dRcCWbqIkIb_"
      },
      "source": [
        "\r\n",
        "from keras.optimizers import SGD\r\n",
        "sgd = SGD(lr=0.001, decay=1e-7, momentum=.9)\r\n",
        "vgg16.compile(loss='categorical_crossentropy', \r\n",
        "              optimizer=sgd,\r\n",
        "              metrics=['accuracy'])"
      ],
      "execution_count": null,
      "outputs": []
    },
    {
      "cell_type": "code",
      "metadata": {
        "colab": {
          "base_uri": "https://localhost:8080/"
        },
        "id": "-7sOpDhDkKfD",
        "outputId": "6d3eb37c-e7ef-4531-e3da-a80b8fad6e99"
      },
      "source": [
        "H = vgg16.fit(X_train, y_train, batch_size=64,\r\n",
        "              epochs=50, \r\n",
        "              validation_data=(X_valid, y_valid))"
      ],
      "execution_count": null,
      "outputs": [
        {
          "output_type": "stream",
          "text": [
            "Epoch 1/50\n",
            "88/88 [==============================] - 54s 492ms/step - loss: 1.7917 - accuracy: 0.1811 - val_loss: 1.7913 - val_accuracy: 0.1809\n",
            "Epoch 2/50\n",
            "88/88 [==============================] - 40s 457ms/step - loss: 1.7914 - accuracy: 0.1740 - val_loss: 1.7909 - val_accuracy: 0.1809\n",
            "Epoch 3/50\n",
            "88/88 [==============================] - 40s 451ms/step - loss: 1.7914 - accuracy: 0.1705 - val_loss: 1.7907 - val_accuracy: 0.1809\n",
            "Epoch 4/50\n",
            "88/88 [==============================] - 40s 454ms/step - loss: 1.7911 - accuracy: 0.1732 - val_loss: 1.7906 - val_accuracy: 0.1809\n",
            "Epoch 5/50\n",
            "88/88 [==============================] - 40s 454ms/step - loss: 1.7901 - accuracy: 0.1843 - val_loss: 1.7904 - val_accuracy: 0.1809\n",
            "Epoch 6/50\n",
            "88/88 [==============================] - 40s 452ms/step - loss: 1.7904 - accuracy: 0.1731 - val_loss: 1.7904 - val_accuracy: 0.1809\n",
            "Epoch 7/50\n",
            "88/88 [==============================] - 40s 454ms/step - loss: 1.7895 - accuracy: 0.1843 - val_loss: 1.7903 - val_accuracy: 0.1809\n",
            "Epoch 8/50\n",
            "88/88 [==============================] - 40s 456ms/step - loss: 1.7889 - accuracy: 0.1792 - val_loss: 1.7903 - val_accuracy: 0.1809\n",
            "Epoch 9/50\n",
            "88/88 [==============================] - 40s 456ms/step - loss: 1.7891 - accuracy: 0.1716 - val_loss: 1.7900 - val_accuracy: 0.1809\n",
            "Epoch 10/50\n",
            "88/88 [==============================] - 40s 455ms/step - loss: 1.7874 - accuracy: 0.1760 - val_loss: 1.7896 - val_accuracy: 0.1809\n",
            "Epoch 11/50\n",
            "88/88 [==============================] - 40s 455ms/step - loss: 1.7847 - accuracy: 0.1866 - val_loss: 1.7890 - val_accuracy: 0.1809\n",
            "Epoch 12/50\n",
            "88/88 [==============================] - 40s 454ms/step - loss: 1.7825 - accuracy: 0.1748 - val_loss: 1.7873 - val_accuracy: 0.1809\n",
            "Epoch 13/50\n",
            "88/88 [==============================] - 40s 454ms/step - loss: 1.7767 - accuracy: 0.1849 - val_loss: 1.7836 - val_accuracy: 0.2877\n",
            "Epoch 14/50\n",
            "88/88 [==============================] - 40s 454ms/step - loss: 1.7659 - accuracy: 0.2185 - val_loss: 1.7601 - val_accuracy: 0.3084\n",
            "Epoch 15/50\n",
            "88/88 [==============================] - 40s 454ms/step - loss: 1.7311 - accuracy: 0.2960 - val_loss: 1.6800 - val_accuracy: 0.3825\n",
            "Epoch 16/50\n",
            "88/88 [==============================] - 40s 453ms/step - loss: 1.6562 - accuracy: 0.3510 - val_loss: 1.5985 - val_accuracy: 0.4160\n",
            "Epoch 17/50\n",
            "88/88 [==============================] - 40s 453ms/step - loss: 1.5926 - accuracy: 0.3961 - val_loss: 1.5590 - val_accuracy: 0.4274\n",
            "Epoch 18/50\n",
            "88/88 [==============================] - 40s 453ms/step - loss: 1.5249 - accuracy: 0.4089 - val_loss: 1.4951 - val_accuracy: 0.4494\n",
            "Epoch 19/50\n",
            "88/88 [==============================] - 40s 452ms/step - loss: 1.4706 - accuracy: 0.4409 - val_loss: 1.4052 - val_accuracy: 0.4608\n",
            "Epoch 20/50\n",
            "88/88 [==============================] - 40s 454ms/step - loss: 1.4054 - accuracy: 0.4593 - val_loss: 1.3488 - val_accuracy: 0.4466\n",
            "Epoch 21/50\n",
            "88/88 [==============================] - 40s 454ms/step - loss: 1.3181 - accuracy: 0.4973 - val_loss: 1.2508 - val_accuracy: 0.5249\n",
            "Epoch 22/50\n",
            "88/88 [==============================] - 40s 456ms/step - loss: 1.2380 - accuracy: 0.5238 - val_loss: 1.2493 - val_accuracy: 0.5107\n",
            "Epoch 23/50\n",
            "88/88 [==============================] - 40s 455ms/step - loss: 1.2155 - accuracy: 0.5239 - val_loss: 1.2151 - val_accuracy: 0.5399\n",
            "Epoch 24/50\n",
            "88/88 [==============================] - 40s 455ms/step - loss: 1.1907 - accuracy: 0.5350 - val_loss: 1.1404 - val_accuracy: 0.5385\n",
            "Epoch 25/50\n",
            "88/88 [==============================] - 40s 453ms/step - loss: 1.1294 - accuracy: 0.5572 - val_loss: 1.1192 - val_accuracy: 0.5299\n",
            "Epoch 26/50\n",
            "88/88 [==============================] - 40s 453ms/step - loss: 1.0999 - accuracy: 0.5669 - val_loss: 1.0730 - val_accuracy: 0.5819\n",
            "Epoch 27/50\n",
            "88/88 [==============================] - 40s 452ms/step - loss: 1.0877 - accuracy: 0.5684 - val_loss: 1.0502 - val_accuracy: 0.5833\n",
            "Epoch 28/50\n",
            "88/88 [==============================] - 40s 453ms/step - loss: 1.0450 - accuracy: 0.6023 - val_loss: 1.0540 - val_accuracy: 0.5477\n",
            "Epoch 29/50\n",
            "88/88 [==============================] - 40s 452ms/step - loss: 1.0321 - accuracy: 0.5767 - val_loss: 1.0084 - val_accuracy: 0.5919\n",
            "Epoch 30/50\n",
            "88/88 [==============================] - 40s 453ms/step - loss: 1.0411 - accuracy: 0.5886 - val_loss: 1.0546 - val_accuracy: 0.5527\n",
            "Epoch 31/50\n",
            "88/88 [==============================] - 40s 454ms/step - loss: 1.0117 - accuracy: 0.5881 - val_loss: 0.9924 - val_accuracy: 0.5919\n",
            "Epoch 32/50\n",
            "88/88 [==============================] - 40s 454ms/step - loss: 1.0031 - accuracy: 0.5927 - val_loss: 1.0088 - val_accuracy: 0.5919\n",
            "Epoch 33/50\n",
            "88/88 [==============================] - 40s 455ms/step - loss: 1.0030 - accuracy: 0.5880 - val_loss: 0.9623 - val_accuracy: 0.6147\n",
            "Epoch 34/50\n",
            "88/88 [==============================] - 40s 455ms/step - loss: 0.9804 - accuracy: 0.6137 - val_loss: 0.9775 - val_accuracy: 0.6068\n",
            "Epoch 35/50\n",
            "88/88 [==============================] - 40s 455ms/step - loss: 0.9554 - accuracy: 0.6179 - val_loss: 0.9621 - val_accuracy: 0.6132\n",
            "Epoch 36/50\n",
            "88/88 [==============================] - 40s 455ms/step - loss: 0.9689 - accuracy: 0.6017 - val_loss: 0.9484 - val_accuracy: 0.6154\n",
            "Epoch 37/50\n",
            "88/88 [==============================] - 40s 455ms/step - loss: 0.9471 - accuracy: 0.6217 - val_loss: 0.9659 - val_accuracy: 0.6246\n",
            "Epoch 38/50\n",
            "88/88 [==============================] - 40s 455ms/step - loss: 0.9421 - accuracy: 0.6305 - val_loss: 0.9515 - val_accuracy: 0.6132\n",
            "Epoch 39/50\n",
            "88/88 [==============================] - 40s 455ms/step - loss: 0.9471 - accuracy: 0.6251 - val_loss: 0.9870 - val_accuracy: 0.5976\n",
            "Epoch 40/50\n",
            "88/88 [==============================] - 40s 455ms/step - loss: 0.9543 - accuracy: 0.6187 - val_loss: 1.0117 - val_accuracy: 0.6154\n",
            "Epoch 41/50\n",
            "88/88 [==============================] - 40s 455ms/step - loss: 0.9281 - accuracy: 0.6331 - val_loss: 0.9267 - val_accuracy: 0.6154\n",
            "Epoch 42/50\n",
            "88/88 [==============================] - 40s 455ms/step - loss: 0.8978 - accuracy: 0.6405 - val_loss: 0.9198 - val_accuracy: 0.6318\n",
            "Epoch 43/50\n",
            "88/88 [==============================] - 40s 455ms/step - loss: 0.9022 - accuracy: 0.6416 - val_loss: 0.9774 - val_accuracy: 0.5997\n",
            "Epoch 44/50\n",
            "88/88 [==============================] - 40s 454ms/step - loss: 0.9428 - accuracy: 0.6265 - val_loss: 0.9251 - val_accuracy: 0.6268\n",
            "Epoch 45/50\n",
            "88/88 [==============================] - 40s 455ms/step - loss: 0.9063 - accuracy: 0.6368 - val_loss: 0.9052 - val_accuracy: 0.6289\n",
            "Epoch 46/50\n",
            "88/88 [==============================] - 40s 454ms/step - loss: 0.8786 - accuracy: 0.6509 - val_loss: 0.9733 - val_accuracy: 0.5862\n",
            "Epoch 47/50\n",
            "88/88 [==============================] - 40s 454ms/step - loss: 0.8600 - accuracy: 0.6520 - val_loss: 1.0059 - val_accuracy: 0.6104\n",
            "Epoch 48/50\n",
            "88/88 [==============================] - 40s 453ms/step - loss: 0.8957 - accuracy: 0.6515 - val_loss: 0.8616 - val_accuracy: 0.6581\n",
            "Epoch 49/50\n",
            "88/88 [==============================] - 40s 453ms/step - loss: 0.8732 - accuracy: 0.6595 - val_loss: 0.8936 - val_accuracy: 0.6453\n",
            "Epoch 50/50\n",
            "88/88 [==============================] - 40s 453ms/step - loss: 0.8447 - accuracy: 0.6647 - val_loss: 0.9132 - val_accuracy: 0.6382\n"
          ],
          "name": "stdout"
        }
      ]
    },
    {
      "cell_type": "code",
      "metadata": {
        "id": "UfWAXDTVkN1Z"
      },
      "source": [
        "# save the model's trained weights\r\n",
        "vgg16.save_weights('vgg16_trained1_wts.h5')"
      ],
      "execution_count": null,
      "outputs": []
    },
    {
      "cell_type": "code",
      "metadata": {
        "colab": {
          "base_uri": "https://localhost:8080/",
          "height": 299
        },
        "id": "gum5nviHkSKQ",
        "outputId": "cf162d18-fcf3-4a27-8026-dc88408afd22"
      },
      "source": [
        "'''LEARNING CURVE'''\r\n",
        "\r\n",
        "import matplotlib.pyplot as plt\r\n",
        "N = np.arange(0, 50)\r\n",
        "plt.style.use('ggplot')\r\n",
        "plt.figure()\r\n",
        "plt.plot(N, H.history['loss'], label='train_loss')\r\n",
        "plt.plot(N, H.history['val_loss'], label='val_loss')\r\n",
        "plt.plot(N, H.history['accuracy'], label='train_accuracy')\r\n",
        "plt.plot(N, H.history['val_accuracy'], label='val_accuracy')\r\n",
        "plt.title('Training loss and accuracy')\r\n",
        "plt.xlabel('Epoch #')\r\n",
        "plt.ylabel('Loss/Accuracy')\r\n",
        "plt.legend()\r\n",
        "plt.show()"
      ],
      "execution_count": null,
      "outputs": [
        {
          "output_type": "display_data",
          "data": {
            "image/png": "[encoded data removed]",
            "text/plain": [
              "<Figure size 432x288 with 1 Axes>"
            ]
          },
          "metadata": {
            "tags": []
          }
        }
      ]
    },
    {
      "cell_type": "code",
      "metadata": {
        "colab": {
          "base_uri": "https://localhost:8080/"
        },
        "id": "zAzJUhEwkUNV",
        "outputId": "d4f36338-03ec-4d27-d169-b0d5fbe854ae"
      },
      "source": [
        "score = vgg16.evaluate(X_test, y_test, batch_size=64)\r\n",
        "print('Test Loss = ', score[0])\r\n",
        "print('Test Accuracy = ', score[1])"
      ],
      "execution_count": null,
      "outputs": [
        {
          "output_type": "stream",
          "text": [
            "47/47 [==============================] - 8s 163ms/step - loss: 0.9084 - accuracy: 0.6443\n",
            "Test Loss =  0.9083946347236633\n",
            "Test Accuracy =  0.6443333625793457\n"
          ],
          "name": "stdout"
        }
      ]
    },
    {
      "cell_type": "code",
      "metadata": {
        "colab": {
          "base_uri": "https://localhost:8080/"
        },
        "id": "S_4lHMQPkXWu",
        "outputId": "868e8f9f-e6f8-4832-cac6-98ffa5631f37"
      },
      "source": [
        "'''CONFUSION MATRIX'''\r\n",
        "# Making prediction\r\n",
        "y_pred = vgg16.predict_classes(X_test)\r\n",
        "y_true = np.argmax(y_test, axis=-1)\r\n",
        "\r\n",
        "# Plotting the confusion matrix\r\n",
        "from sklearn.metrics import confusion_matrix\r\n",
        "confusion_mtx = confusion_matrix(y_true, y_pred)"
      ],
      "execution_count": null,
      "outputs": [
        {
          "output_type": "stream",
          "text": [
            "/usr/local/lib/python3.6/dist-packages/tensorflow/python/keras/engine/sequential.py:450: UserWarning: `model.predict_classes()` is deprecated and will be removed after 2021-01-01. Please use instead:* `np.argmax(model.predict(x), axis=-1)`,   if your model does multi-class classification   (e.g. if it uses a `softmax` last-layer activation).* `(model.predict(x) > 0.5).astype(\"int32\")`,   if your model does binary classification   (e.g. if it uses a `sigmoid` last-layer activation).\n",
            "  warnings.warn('`model.predict_classes()` is deprecated and '\n"
          ],
          "name": "stderr"
        }
      ]
    },
    {
      "cell_type": "code",
      "metadata": {
        "colab": {
          "base_uri": "https://localhost:8080/"
        },
        "id": "4gtnPIQRkZrf",
        "outputId": "a598da61-8f91-4d01-90e9-f9fbbe6ffb61"
      },
      "source": [
        "confusion_mtx"
      ],
      "execution_count": null,
      "outputs": [
        {
          "output_type": "execute_result",
          "data": {
            "text/plain": [
              "array([[230,  16,  32,  52,  24,  83],\n",
              "       [ 15, 378,   4,   5,   0,  72],\n",
              "       [  5,   2, 306,  63, 164,  13],\n",
              "       [ 19,   1,  52, 332, 114,   7],\n",
              "       [ 13,   3, 134,  75, 282,   3],\n",
              "       [ 40,  10,  34,   8,   4, 405]])"
            ]
          },
          "metadata": {
            "tags": []
          },
          "execution_count": 22
        }
      ]
    },
    {
      "cell_type": "code",
      "metadata": {
        "id": "gx2hcmqb2oWU"
      },
      "source": [
        "from keras.applications.vgg16 import VGG16\r\n",
        "from keras.models import Model\r\n",
        "from keras.layers import Dense\r\n",
        "from keras.layers import Flatten"
      ],
      "execution_count": null,
      "outputs": []
    },
    {
      "cell_type": "code",
      "metadata": {
        "colab": {
          "base_uri": "https://localhost:8080/"
        },
        "id": "vfI2endh2uKW",
        "outputId": "84f15134-3bd4-4047-cfd0-a8a3e61cf54d"
      },
      "source": [
        "\r\n",
        "# load VGG16 model without classification layers\r\n",
        "model = VGG16(include_top=False, input_shape=(150, 150, 3))"
      ],
      "execution_count": null,
      "outputs": [
        {
          "output_type": "stream",
          "text": [
            "Downloading data from https://storage.googleapis.com/tensorflow/keras-applications/vgg16/vgg16_weights_tf_dim_ordering_tf_kernels_notop.h5\n",
            "58892288/58889256 [==============================] - 1s 0us/step\n"
          ],
          "name": "stdout"
        }
      ]
    },
    {
      "cell_type": "code",
      "metadata": {
        "id": "b-2BkFzB2z7x"
      },
      "source": [
        "# add new classification layers\r\n",
        "flat1 = Flatten()(model.layers[-1].output) # flatten last layer\r\n",
        "class1 = Dense(1024, activation='relu')(flat1) # add FC layer on previous layer\r\n",
        "output = Dense(6, activation='softmax')(class1) # add softmax layer"
      ],
      "execution_count": null,
      "outputs": []
    },
    {
      "cell_type": "code",
      "metadata": {
        "colab": {
          "base_uri": "https://localhost:8080/"
        },
        "id": "fMNfVwum24xw",
        "outputId": "75538c83-2fe1-40cb-bf50-59f5e71b8dd3"
      },
      "source": [
        "# define the new model\r\n",
        "model = Model(inputs=model.inputs, outputs=output)\r\n",
        "model.summary()"
      ],
      "execution_count": null,
      "outputs": [
        {
          "output_type": "stream",
          "text": [
            "Model: \"model\"\n",
            "_________________________________________________________________\n",
            "Layer (type)                 Output Shape              Param #   \n",
            "=================================================================\n",
            "input_1 (InputLayer)         [(None, 150, 150, 3)]     0         \n",
            "_________________________________________________________________\n",
            "block1_conv1 (Conv2D)        (None, 150, 150, 64)      1792      \n",
            "_________________________________________________________________\n",
            "block1_conv2 (Conv2D)        (None, 150, 150, 64)      36928     \n",
            "_________________________________________________________________\n",
            "block1_pool (MaxPooling2D)   (None, 75, 75, 64)        0         \n",
            "_________________________________________________________________\n",
            "block2_conv1 (Conv2D)        (None, 75, 75, 128)       73856     \n",
            "_________________________________________________________________\n",
            "block2_conv2 (Conv2D)        (None, 75, 75, 128)       147584    \n",
            "_________________________________________________________________\n",
            "block2_pool (MaxPooling2D)   (None, 37, 37, 128)       0         \n",
            "_________________________________________________________________\n",
            "block3_conv1 (Conv2D)        (None, 37, 37, 256)       295168    \n",
            "_________________________________________________________________\n",
            "block3_conv2 (Conv2D)        (None, 37, 37, 256)       590080    \n",
            "_________________________________________________________________\n",
            "block3_conv3 (Conv2D)        (None, 37, 37, 256)       590080    \n",
            "_________________________________________________________________\n",
            "block3_pool (MaxPooling2D)   (None, 18, 18, 256)       0         \n",
            "_________________________________________________________________\n",
            "block4_conv1 (Conv2D)        (None, 18, 18, 512)       1180160   \n",
            "_________________________________________________________________\n",
            "block4_conv2 (Conv2D)        (None, 18, 18, 512)       2359808   \n",
            "_________________________________________________________________\n",
            "block4_conv3 (Conv2D)        (None, 18, 18, 512)       2359808   \n",
            "_________________________________________________________________\n",
            "block4_pool (MaxPooling2D)   (None, 9, 9, 512)         0         \n",
            "_________________________________________________________________\n",
            "block5_conv1 (Conv2D)        (None, 9, 9, 512)         2359808   \n",
            "_________________________________________________________________\n",
            "block5_conv2 (Conv2D)        (None, 9, 9, 512)         2359808   \n",
            "_________________________________________________________________\n",
            "block5_conv3 (Conv2D)        (None, 9, 9, 512)         2359808   \n",
            "_________________________________________________________________\n",
            "block5_pool (MaxPooling2D)   (None, 4, 4, 512)         0         \n",
            "_________________________________________________________________\n",
            "flatten (Flatten)            (None, 8192)              0         \n",
            "_________________________________________________________________\n",
            "dense (Dense)                (None, 1024)              8389632   \n",
            "_________________________________________________________________\n",
            "dense_1 (Dense)              (None, 6)                 6150      \n",
            "=================================================================\n",
            "Total params: 23,110,470\n",
            "Trainable params: 23,110,470\n",
            "Non-trainable params: 0\n",
            "_________________________________________________________________\n"
          ],
          "name": "stdout"
        }
      ]
    },
    {
      "cell_type": "code",
      "metadata": {
        "id": "rpG8sVeB3CEU"
      },
      "source": [
        "from sklearn.model_selection import train_test_split\r\n",
        "(X_train, X_valid, y_train, y_valid) = train_test_split(X_train, y_train,\r\n",
        "                                                        test_size=0.2,\r\n",
        "                                                        random_state=42)"
      ],
      "execution_count": null,
      "outputs": []
    },
    {
      "cell_type": "code",
      "metadata": {
        "id": "l7o506Hk3WPt"
      },
      "source": [
        "from keras.optimizers import SGD\r\n",
        "sgd = SGD(lr=0.001, decay=1e-7, momentum=.9)\r\n",
        "model.compile(loss='categorical_crossentropy', \r\n",
        "              optimizer=sgd,\r\n",
        "              metrics=['accuracy'])"
      ],
      "execution_count": null,
      "outputs": []
    },
    {
      "cell_type": "code",
      "metadata": {
        "colab": {
          "base_uri": "https://localhost:8080/"
        },
        "id": "ou3uHCGO3Z6B",
        "outputId": "5934667b-b276-4f92-db18-a1424f1348f2"
      },
      "source": [
        "H = model.fit(X_train, y_train, batch_size=128,\r\n",
        "              epochs=15, \r\n",
        "              validation_data=(X_valid, y_valid))"
      ],
      "execution_count": null,
      "outputs": [
        {
          "output_type": "stream",
          "text": [
            "Epoch 1/15\n",
            "44/44 [==============================] - 63s 1s/step - loss: 1.2066 - accuracy: 0.5203 - val_loss: 0.3538 - val_accuracy: 0.8718\n",
            "Epoch 2/15\n",
            "44/44 [==============================] - 40s 905ms/step - loss: 0.3110 - accuracy: 0.8929 - val_loss: 0.3019 - val_accuracy: 0.8910\n",
            "Epoch 3/15\n",
            "44/44 [==============================] - 40s 914ms/step - loss: 0.2301 - accuracy: 0.9203 - val_loss: 0.2676 - val_accuracy: 0.9110\n",
            "Epoch 4/15\n",
            "44/44 [==============================] - 40s 906ms/step - loss: 0.1447 - accuracy: 0.9500 - val_loss: 0.3238 - val_accuracy: 0.8903\n",
            "Epoch 5/15\n",
            "44/44 [==============================] - 40s 911ms/step - loss: 0.1264 - accuracy: 0.9518 - val_loss: 0.2528 - val_accuracy: 0.9131\n",
            "Epoch 6/15\n",
            "44/44 [==============================] - 40s 912ms/step - loss: 0.0780 - accuracy: 0.9778 - val_loss: 0.2743 - val_accuracy: 0.9103\n",
            "Epoch 7/15\n",
            "44/44 [==============================] - 40s 912ms/step - loss: 0.0654 - accuracy: 0.9795 - val_loss: 0.3213 - val_accuracy: 0.8989\n",
            "Epoch 8/15\n",
            "44/44 [==============================] - 40s 910ms/step - loss: 0.0530 - accuracy: 0.9822 - val_loss: 0.3642 - val_accuracy: 0.8925\n",
            "Epoch 9/15\n",
            "44/44 [==============================] - 40s 909ms/step - loss: 0.0207 - accuracy: 0.9957 - val_loss: 0.3654 - val_accuracy: 0.9031\n",
            "Epoch 10/15\n",
            "44/44 [==============================] - 40s 910ms/step - loss: 0.0129 - accuracy: 0.9972 - val_loss: 0.4125 - val_accuracy: 0.9003\n",
            "Epoch 11/15\n",
            "44/44 [==============================] - 40s 912ms/step - loss: 0.0086 - accuracy: 0.9981 - val_loss: 0.4713 - val_accuracy: 0.9017\n",
            "Epoch 12/15\n",
            "44/44 [==============================] - 40s 917ms/step - loss: 0.0096 - accuracy: 0.9986 - val_loss: 0.4159 - val_accuracy: 0.9074\n",
            "Epoch 13/15\n",
            "44/44 [==============================] - 40s 914ms/step - loss: 0.0049 - accuracy: 0.9989 - val_loss: 0.4370 - val_accuracy: 0.9053\n",
            "Epoch 14/15\n",
            "44/44 [==============================] - 40s 912ms/step - loss: 0.0080 - accuracy: 0.9997 - val_loss: 0.4545 - val_accuracy: 0.9010\n",
            "Epoch 15/15\n",
            "44/44 [==============================] - 40s 911ms/step - loss: 0.0073 - accuracy: 0.9984 - val_loss: 0.3951 - val_accuracy: 0.9060\n"
          ],
          "name": "stdout"
        }
      ]
    },
    {
      "cell_type": "code",
      "metadata": {
        "id": "MhAkSqxc52yi"
      },
      "source": [
        "\r\n",
        "# save the model's trained weights\r\n",
        "model.save_weights('vgg_transfer_trained_wts.h5')"
      ],
      "execution_count": null,
      "outputs": []
    },
    {
      "cell_type": "code",
      "metadata": {
        "colab": {
          "base_uri": "https://localhost:8080/",
          "height": 299
        },
        "id": "XGZ63-tZ541J",
        "outputId": "3e52687d-37db-4788-b4db-09a8bfbc9f0f"
      },
      "source": [
        "'''LEARNING CURVE'''\r\n",
        "\r\n",
        "import matplotlib.pyplot as plt\r\n",
        "N = np.arange(0, 15)\r\n",
        "plt.style.use('ggplot')\r\n",
        "plt.figure()\r\n",
        "plt.plot(N, H.history['loss'], label='train_loss')\r\n",
        "plt.plot(N, H.history['val_loss'], label='val_loss')\r\n",
        "plt.plot(N, H.history['accuracy'], label='train_accuracy')\r\n",
        "plt.plot(N, H.history['val_accuracy'], label='val_accuracy')\r\n",
        "plt.title('Training loss and accuracy')\r\n",
        "plt.xlabel('Epoch #')\r\n",
        "plt.ylabel('Loss/Accuracy')\r\n",
        "plt.legend()\r\n",
        "plt.show()"
      ],
      "execution_count": null,
      "outputs": [
        {
          "output_type": "display_data",
          "data": {
            "image/png": "[encoded data removed]",
            "text/plain": [
              "<Figure size 432x288 with 1 Axes>"
            ]
          },
          "metadata": {
            "tags": []
          }
        }
      ]
    },
    {
      "cell_type": "code",
      "metadata": {
        "colab": {
          "base_uri": "https://localhost:8080/"
        },
        "id": "8NXdHSpO6O45",
        "outputId": "4fe379ce-9225-4347-d753-2c26f96af0c3"
      },
      "source": [
        "score = model.evaluate(X_test, y_test, batch_size=64)\r\n",
        "print('Test Loss = ', score[0])\r\n",
        "print('Test Accuracy = ', score[1])"
      ],
      "execution_count": null,
      "outputs": [
        {
          "output_type": "stream",
          "text": [
            "47/47 [==============================] - 10s 174ms/step - loss: 0.3583 - accuracy: 0.9077\n",
            "Test Loss =  0.35830366611480713\n",
            "Test Accuracy =  0.9076666831970215\n"
          ],
          "name": "stdout"
        }
      ]
    },
    {
      "cell_type": "code",
      "metadata": {
        "id": "TBibzGLu6omI"
      },
      "source": [
        "'''CONFUSION MATRIX'''\r\n",
        "# Making prediction\r\n",
        "y_pred = model.predict(X_test)\r\n",
        "y_true = np.argmax(y_test, axis=-1)\r\n",
        "\r\n",
        "# Plotting the confusion matrix\r\n",
        "from sklearn.metrics import confusion_matrix\r\n",
        "confusion_mtx = confusion_matrix(y_true, np.argmax(y_pred, axis=1))"
      ],
      "execution_count": null,
      "outputs": []
    },
    {
      "cell_type": "code",
      "metadata": {
        "colab": {
          "base_uri": "https://localhost:8080/"
        },
        "id": "9cyuY6hZ6s6-",
        "outputId": "cd05cc6d-7354-4600-e4e4-a02c588e6bf9"
      },
      "source": [
        "confusion_mtx"
      ],
      "execution_count": null,
      "outputs": [
        {
          "output_type": "execute_result",
          "data": {
            "text/plain": [
              "array([[394,   1,   1,   0,   5,  36],\n",
              "       [  0, 468,   2,   1,   2,   1],\n",
              "       [  2,   2, 473,  60,  16,   0],\n",
              "       [  0,   5,  54, 452,  12,   2],\n",
              "       [  2,   1,  12,  10, 485,   0],\n",
              "       [ 40,   2,   1,   2,   5, 451]])"
            ]
          },
          "metadata": {
            "tags": []
          },
          "execution_count": 20
        }
      ]
    }
  ]
}